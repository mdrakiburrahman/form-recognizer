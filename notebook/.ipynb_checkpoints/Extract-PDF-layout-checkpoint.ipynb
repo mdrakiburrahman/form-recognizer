{
 "cells": [
  {
   "cell_type": "markdown",
   "id": "1e25af36",
   "metadata": {},
   "source": [
    "### PDF Layout analyzer with Form Recognizer Container\n",
    "\n",
    "<img src=\"https://i.imgur.com/XBP3utx.png\" width=\"240\" height=\"240\" align=\"left\" style=\"padding-right: 20px;\"/>\n",
    "\n",
    "[**Sample PDF file from Github**](https://github.com/mdrakiburrahman/form-recognizer/blob/main/artifacts/mortgage.pdf)\n",
    "\n",
    "We'll be having the Container scan the image in 2 ways: <br>\n",
    "**1** - Using container's outbound internet access to hit the Github repo (for demo) <br>\n",
    "**2** -  Converting the content of the file client side (from local), and passing it in as `octet-stream` (no outbound access required)"
   ]
  },
  {
   "cell_type": "markdown",
   "id": "fde02f3e",
   "metadata": {},
   "source": [
    "### 1. Using outbound internet access on the container to hit the Github repo (for demo)"
   ]
  },
  {
   "cell_type": "code",
   "execution_count": null,
   "id": "96b2ad65",
   "metadata": {},
   "outputs": [],
   "source": [
    "import requests\n",
    "import json"
   ]
  },
  {
   "cell_type": "code",
   "execution_count": null,
   "id": "63135830",
   "metadata": {},
   "outputs": [],
   "source": [
    "endpoint = 'http://localhost:5000/formrecognizer/v2.1/layout/syncAnalyze?language=en&readingOrder=natural'\n",
    "file = 'https://raw.githubusercontent.com/mdrakiburrahman/form-recognizer/main/artifacts/mortgage.pdf'\n",
    "response = requests.post(endpoint, \\\n",
    "                         headers={'accept': 'application/json'\n",
    "                         , 'Content-Type': 'application/json'},\n",
    "                         json={'source': file\n",
    "                         })\n",
    "\n",
    "print(json.dumps(json.loads(response.content), indent=4, sort_keys=True))"
   ]
  },
  {
   "cell_type": "markdown",
   "id": "1f7b9a86",
   "metadata": {},
   "source": [
    "### 2 -  Converting the content of the file client side (from local), and passing it in as `octet-stream` (no outbound access required)"
   ]
  },
  {
   "cell_type": "code",
   "execution_count": null,
   "id": "fdb375d4",
   "metadata": {},
   "outputs": [],
   "source": [
    "with open(r\"C:\\Users\\mdrrahman\\Documents\\GitHub\\form-recognizer\\artifacts\\mortgage.pdf\", \"rb\") as pdf_file:\n",
    "    encoded_string = pdf_file.read()\n",
    "    \n",
    "print(encoded_string[0:100])"
   ]
  },
  {
   "cell_type": "code",
   "execution_count": null,
   "id": "f0e258a5",
   "metadata": {},
   "outputs": [],
   "source": [
    "response = requests.post(endpoint, headers={'accept': 'application/json'\n",
    "                         , 'Content-Type': 'application/octet-stream'},\n",
    "                         data=encoded_string)\n",
    "\n",
    "print(json.dumps(json.loads(response.content), indent=4, sort_keys=True))"
   ]
  }
 ],
 "metadata": {
  "kernelspec": {
   "display_name": "Python 3",
   "language": "python",
   "name": "python3"
  },
  "language_info": {
   "codemirror_mode": {
    "name": "ipython",
    "version": 3
   },
   "file_extension": ".py",
   "mimetype": "text/x-python",
   "name": "python",
   "nbconvert_exporter": "python",
   "pygments_lexer": "ipython3",
   "version": "3.8.8"
  }
 },
 "nbformat": 4,
 "nbformat_minor": 5
}
