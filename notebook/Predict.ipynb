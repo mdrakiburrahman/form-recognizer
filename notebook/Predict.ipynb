{
 "cells": [
  {
   "cell_type": "code",
   "execution_count": 3,
   "id": "178adfdd",
   "metadata": {},
   "outputs": [],
   "source": [
    "import requests\n",
    "endpoint = \"http://localhost:5000/formrecognizer/v2.1/prebuilt/businessCard/analyze\"\n",
    "url = \"https://raw.githubusercontent.com/Azure/azure-sdk-for-python/master/sdk/formrecognizer/azure-ai-formrecognizer/samples/sample_forms/business_cards/business-card-english.jpg\"\n",
    "response = requests.post(endpoint, headers={\"accept\": \"application/json\", \n",
    "                        \"Content-Type\" : \"application/json\"},  json={\n",
    "\"source\" : \"https://raw.githubusercontent.com/Azure/azure-sdk-for-python/master/sdk/formrecognizer/azure-ai-formrecognizer/samples/sample_forms/business_cards/business-card-english.jpg\"\n",
    "})"
   ]
  },
  {
   "cell_type": "code",
   "execution_count": 2,
   "id": "d73e29f6",
   "metadata": {},
   "outputs": [
    {
     "name": "stdout",
     "output_type": "stream",
     "text": [
      "<Response [404]>\n",
      "{'Date': 'Mon, 09 Aug 2021 10:16:21 GMT', 'Server': 'Kestrel', 'Content-Length': '0'}\n",
      "b''\n"
     ]
    }
   ],
   "source": [
    "print(response)\n",
    "print(response.headers)\n",
    "print(response.content)"
   ]
  },
  {
   "cell_type": "code",
   "execution_count": null,
   "id": "dae2735c",
   "metadata": {},
   "outputs": [],
   "source": [
    "https://raw.githubusercontent.com/mdrakiburrahman/form-recognizer/main/artifacts/license.jpeg"
   ]
  }
 ],
 "metadata": {
  "kernelspec": {
   "display_name": "Python 3",
   "language": "python",
   "name": "python3"
  },
  "language_info": {
   "codemirror_mode": {
    "name": "ipython",
    "version": 3
   },
   "file_extension": ".py",
   "mimetype": "text/x-python",
   "name": "python",
   "nbconvert_exporter": "python",
   "pygments_lexer": "ipython3",
   "version": "3.8.8"
  }
 },
 "nbformat": 4,
 "nbformat_minor": 5
}
